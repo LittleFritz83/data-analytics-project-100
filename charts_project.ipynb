{
 "cells": [
  {
   "cell_type": "markdown",
   "id": "d7d59584-0525-42ed-921e-9e0824660086",
   "metadata": {},
   "source": [
    "Импорт библиотек"
   ]
  },
  {
   "cell_type": "code",
   "execution_count": 521,
   "id": "d358f6bb-c1da-40d8-a874-468ef9f9689f",
   "metadata": {},
   "outputs": [],
   "source": [
    "import pandas as pd\n",
    "import requests\n",
    "import os\n",
    "from dotenv import load_dotenv\n",
    "import matplotlib.pyplot as plt"
   ]
  },
  {
   "cell_type": "markdown",
   "id": "35a411a1-dbd7-4d33-ac57-26dba01dbb1b",
   "metadata": {},
   "source": [
    "Прочитаем значения переменных окружения"
   ]
  },
  {
   "cell_type": "code",
   "execution_count": 523,
   "id": "26f79587-08a8-417e-8b6b-c0371340b367",
   "metadata": {},
   "outputs": [],
   "source": [
    "load_dotenv() # загружаются переменные из файла\n",
    "\n",
    "DATE_BEGIN = os.getenv('DATE_BEGIN')\n",
    "DATE_END   = os.getenv('DATE_END')\n",
    "API_URL    = os.getenv('API_URL')"
   ]
  },
  {
   "cell_type": "markdown",
   "id": "7e7b8b37-0481-4486-b539-bb26602f6746",
   "metadata": {},
   "source": [
    "Запрос данных по визитам"
   ]
  },
  {
   "cell_type": "code",
   "execution_count": 525,
   "id": "544cd78f-bb59-4b1e-b51c-c3a06646463b",
   "metadata": {},
   "outputs": [],
   "source": [
    "l_requests_visits = requests.get(f'{API_URL}/visits', params={'begin': DATE_BEGIN, 'end': DATE_END})\n",
    "l_df_api_visits = pd.DataFrame.from_dict(l_requests_visits.json())"
   ]
  },
  {
   "cell_type": "markdown",
   "id": "b127d72f-6fea-49b9-8fc0-7d54fcf6866a",
   "metadata": {},
   "source": [
    "Запрос данных по регистрациям"
   ]
  },
  {
   "cell_type": "code",
   "execution_count": 527,
   "id": "8106cc91-9497-4abc-b96f-6bc83a3572c8",
   "metadata": {},
   "outputs": [],
   "source": [
    "l_requests_regs = requests.get(f'{API_URL}/registrations', params={'begin': DATE_BEGIN, 'end': DATE_END})\n",
    "l_df_api_regs = pd.DataFrame.from_dict(l_requests_regs.json())"
   ]
  },
  {
   "cell_type": "markdown",
   "id": "d84c9bd0-54ec-4beb-9040-760b0e2dfdd3",
   "metadata": {},
   "source": [
    "Отфильтруем ботов"
   ]
  },
  {
   "cell_type": "code",
   "execution_count": 529,
   "id": "508aae37-ba4f-493f-8c42-ae1f041fef3a",
   "metadata": {},
   "outputs": [],
   "source": [
    "l_df_api_visits['bot'] = l_df_api_visits['user_agent'].str.contains('bot')\n",
    "l_df_api_visits = l_df_api_visits[~l_df_api_visits['bot']]"
   ]
  },
  {
   "cell_type": "markdown",
   "id": "29d89373-1b2d-4c15-889e-e35c0c63e641",
   "metadata": {},
   "source": [
    "Оставим только последние посещения для каждого пользователя"
   ]
  },
  {
   "cell_type": "code",
   "execution_count": 531,
   "id": "6eb062e2-2ef8-484c-ae37-101f2db3732f",
   "metadata": {},
   "outputs": [],
   "source": [
    "l_df_api_last_visit = l_df_api_visits.groupby(['visit_id']).agg({'datetime': 'max'})\n",
    "l_df_api_visits = pd.merge(l_df_api_visits, l_df_api_last_visit, on=['visit_id', 'datetime'], how='inner')"
   ]
  },
  {
   "cell_type": "markdown",
   "id": "cf4bebc5-7b2b-49a8-bdcf-0f7795a3b29a",
   "metadata": {},
   "source": [
    "Рассчитаем поле с датой в формате Unix"
   ]
  },
  {
   "cell_type": "code",
   "execution_count": 533,
   "id": "1c3f6be6-703e-47e4-8095-b71e1b170dac",
   "metadata": {},
   "outputs": [],
   "source": [
    "l_df_api_visits['date'] = l_df_api_visits['datetime'].str.slice(stop=10)\n",
    "l_df_visits_4_visual = l_df_api_visits\n",
    "l_df_api_visits['date_group'] = pd.to_datetime(l_df_api_visits['date']).astype('int64').astype(str).str.slice(stop=13).astype('int64')"
   ]
  },
  {
   "cell_type": "markdown",
   "id": "7c781907-535d-49b4-99fa-160c1fab4a25",
   "metadata": {},
   "source": [
    "Удаление дубликатов и сортировка"
   ]
  },
  {
   "cell_type": "code",
   "execution_count": 535,
   "id": "d27d8f5c-2751-42e5-880b-1b736ceea6de",
   "metadata": {},
   "outputs": [
    {
     "name": "stderr",
     "output_type": "stream",
     "text": [
      "C:\\Users\\dvpusev\\AppData\\Local\\Temp\\ipykernel_23348\\3626328730.py:2: SettingWithCopyWarning: \n",
      "A value is trying to be set on a copy of a slice from a DataFrame\n",
      "\n",
      "See the caveats in the documentation: https://pandas.pydata.org/pandas-docs/stable/user_guide/indexing.html#returning-a-view-versus-a-copy\n",
      "  l_df_api_visits.drop_duplicates(inplace=True)\n",
      "C:\\Users\\dvpusev\\AppData\\Local\\Temp\\ipykernel_23348\\3626328730.py:3: SettingWithCopyWarning: \n",
      "A value is trying to be set on a copy of a slice from a DataFrame\n",
      "\n",
      "See the caveats in the documentation: https://pandas.pydata.org/pandas-docs/stable/user_guide/indexing.html#returning-a-view-versus-a-copy\n",
      "  l_df_api_visits.sort_values(['date_group','platform'], ascending=[True, True], inplace=True)\n"
     ]
    }
   ],
   "source": [
    "l_df_api_visits = l_df_api_visits[['date_group', 'platform', 'visit_id']]\n",
    "l_df_api_visits.drop_duplicates(inplace=True)\n",
    "l_df_api_visits.sort_values(['date_group','platform'], ascending=[True, True], inplace=True)"
   ]
  },
  {
   "cell_type": "markdown",
   "id": "73899aaf-920d-4088-9150-35d2743ee745",
   "metadata": {},
   "source": [
    "Сагрегируем таблицу визитов по датам посещений и платформам"
   ]
  },
  {
   "cell_type": "code",
   "execution_count": 537,
   "id": "0e94824a-e2d5-4ee0-9ca3-38fb2f180306",
   "metadata": {},
   "outputs": [],
   "source": [
    "l_df_api_visits_agg = l_df_api_visits.groupby(['date_group', 'platform']).agg('count')\n",
    "l_df_api_visits_agg.reset_index(inplace=True)\n",
    "l_df_api_visits_agg.rename(columns={'visit_id': 'visits'}, inplace=True)"
   ]
  },
  {
   "cell_type": "markdown",
   "id": "4bb5a676-3e28-4858-b1da-98390c526dd1",
   "metadata": {},
   "source": [
    "Рассчитаем поле с датой в формате Unix"
   ]
  },
  {
   "cell_type": "code",
   "execution_count": 539,
   "id": "f4b7097d-a439-416f-bfba-a29bfe432e22",
   "metadata": {},
   "outputs": [],
   "source": [
    "l_df_api_regs['date'] = l_df_api_regs['datetime'].str.slice(stop=10)\n",
    "l_df_regs_4_visual = l_df_api_regs\n",
    "l_df_api_regs['date_group'] = pd.to_datetime(l_df_api_regs['date']).astype('int64').astype(str).str.slice(stop=13).astype('int64')"
   ]
  },
  {
   "cell_type": "markdown",
   "id": "56a1a8a5-d636-47f1-808a-100aa5b18dfe",
   "metadata": {},
   "source": [
    "Удалим дубликаты"
   ]
  },
  {
   "cell_type": "code",
   "execution_count": 541,
   "id": "d326c5b3-1977-43c4-8fcd-7a13a5b42469",
   "metadata": {},
   "outputs": [
    {
     "name": "stderr",
     "output_type": "stream",
     "text": [
      "C:\\Users\\dvpusev\\AppData\\Local\\Temp\\ipykernel_23348\\538284114.py:2: SettingWithCopyWarning: \n",
      "A value is trying to be set on a copy of a slice from a DataFrame\n",
      "\n",
      "See the caveats in the documentation: https://pandas.pydata.org/pandas-docs/stable/user_guide/indexing.html#returning-a-view-versus-a-copy\n",
      "  l_df_api_regs.drop_duplicates(inplace=True)\n"
     ]
    }
   ],
   "source": [
    "l_df_api_regs = l_df_api_regs[['date_group', 'platform', 'user_id']]\n",
    "l_df_api_regs.drop_duplicates(inplace=True)"
   ]
  },
  {
   "cell_type": "markdown",
   "id": "5b4a43d4-df24-473e-80d6-940d2092f80e",
   "metadata": {},
   "source": [
    "Сагрегируем таблицу регистраций по датам посещений и платформам"
   ]
  },
  {
   "cell_type": "code",
   "execution_count": 543,
   "id": "deb99ab2-6a4b-48f5-8a70-1b0a0c59debd",
   "metadata": {},
   "outputs": [],
   "source": [
    "l_df_api_regs_agg = l_df_api_regs.groupby(['date_group', 'platform']).agg('count')\n",
    "l_df_api_regs_agg.reset_index(inplace=True)\n",
    "l_df_api_regs_agg.rename(columns={'user_id': 'registrations'}, inplace=True)"
   ]
  },
  {
   "cell_type": "markdown",
   "id": "c8904fb0-6221-4586-9b78-608521435918",
   "metadata": {},
   "source": [
    "Объединим таблицы посещений и регистраций. Рассчитаем конверсию."
   ]
  },
  {
   "cell_type": "code",
   "execution_count": 545,
   "id": "1aef9f0d-1ad5-403b-bf4e-c05b17bc49c5",
   "metadata": {},
   "outputs": [],
   "source": [
    "l_df_conversion = pd.merge(l_df_api_visits_agg, l_df_api_regs_agg, on=['date_group', 'platform'], how='outer')\n",
    "l_df_conversion['conversion'] = round(l_df_conversion['registrations'] / l_df_conversion['visits'] * 100, 10)\n",
    "l_df_conversion.sort_values(['date_group', 'platform'], ascending=[True, True], inplace=True)\n",
    "l_df_conversion.reset_index(drop=True, inplace=True)\n",
    "l_df_conversion.to_json('./conversion.json')"
   ]
  },
  {
   "cell_type": "markdown",
   "id": "06e1180d-4735-44fc-9483-64dcb49c3bc2",
   "metadata": {},
   "source": [
    "Прочитаем данные о рекламных кампаниях"
   ]
  },
  {
   "cell_type": "code",
   "execution_count": 547,
   "id": "409d490e-1d75-4578-9001-e09fae602503",
   "metadata": {},
   "outputs": [],
   "source": [
    "l_df_ads = pd.read_csv('./ads.csv')"
   ]
  },
  {
   "cell_type": "markdown",
   "id": "b8f256e0-8ad8-476e-a12f-fa0322540364",
   "metadata": {},
   "source": [
    "Рассчитаем поле с датой и агрегируем таблицу"
   ]
  },
  {
   "cell_type": "code",
   "execution_count": 549,
   "id": "8e9b5395-d963-4187-a3ea-ab84f983e371",
   "metadata": {},
   "outputs": [],
   "source": [
    "l_df_ads['date'] = l_df_ads['date'].str.slice(stop=10)\n",
    "l_df_ads = l_df_ads[l_df_ads['date'] < DATE_END]\n",
    "l_df_ads_4_visual = l_df_ads\n",
    "l_df_ads['date_group'] = pd.to_datetime(l_df_ads['date']).astype('int64').astype(str).str.slice(stop=13).astype('int64')\n",
    "l_df_ads_agg_2 = l_df_ads.groupby(['date_group', 'utm_campaign']).agg({'cost': 'sum'})\n",
    "l_df_ads_agg_2.reset_index(inplace=True)"
   ]
  },
  {
   "cell_type": "markdown",
   "id": "ec87c977-aa21-4012-9407-75fce3df7b1b",
   "metadata": {},
   "source": [
    "Ещё больше агрегируем таблицы визитов и регистраций (поле platform больше не нужно)"
   ]
  },
  {
   "cell_type": "code",
   "execution_count": 551,
   "id": "e62e5dd2-2cf9-460e-afc6-f5680c2c8c0d",
   "metadata": {},
   "outputs": [],
   "source": [
    "l_df_api_visits_agg_2 = l_df_api_visits_agg.groupby('date_group').agg({'visits': 'sum'})\n",
    "l_df_api_regs_agg_2 = l_df_api_regs_agg.groupby('date_group').agg({'registrations': 'sum'})"
   ]
  },
  {
   "cell_type": "markdown",
   "id": "dcb1a66a-3fa3-486e-8b76-a9d01fea3394",
   "metadata": {},
   "source": [
    "Рассчитываем таблицу с зарплатами на рекламу"
   ]
  },
  {
   "cell_type": "code",
   "execution_count": 553,
   "id": "7eb17eff-3920-46d4-9e4c-a074a96a4bbc",
   "metadata": {},
   "outputs": [],
   "source": [
    "l_df_merge_ads_1 = pd.merge(l_df_api_visits_agg_2, l_df_api_regs_agg_2, on=['date_group'], how='outer')\n",
    "l_df_merge_ads_1.reset_index(inplace=True)\n",
    "l_df_merge_ads_2 = pd.merge(l_df_merge_ads_1, l_df_ads_agg_2, on=['date_group'], how='outer')\n",
    "l_df_ads_2 = l_df_merge_ads_2[['date_group', 'visits', 'registrations', 'cost', 'utm_campaign']]\n",
    "l_df_ads_2.fillna({'cost': 0, 'utm_campaign': 'None'}, inplace=True)\n",
    "l_df_ads_2.sort_values(['date_group'], ascending=[True], inplace=True)\n",
    "l_df_ads_2.reset_index(drop=True, inplace=True)\n",
    "l_df_ads_2.to_json('./ads.json')"
   ]
  },
  {
   "cell_type": "markdown",
   "id": "b911a8c9-5510-4531-915f-ce5c280b428f",
   "metadata": {},
   "source": [
    "Создаем директорию Charts"
   ]
  },
  {
   "cell_type": "code",
   "execution_count": 616,
   "id": "22180e83-4d02-4fff-be49-af64f477b87d",
   "metadata": {},
   "outputs": [],
   "source": [
    "path = './charts'\n",
    "if not os.path.exists(path):\n",
    "    os.mkdir(path)"
   ]
  },
  {
   "cell_type": "code",
   "execution_count": 618,
   "id": "f146708e-672a-473d-b7a4-cf349931256d",
   "metadata": {},
   "outputs": [
    {
     "data": {
      "image/png": "[encoded data removed]",
      "text/plain": [
       "<Figure size 640x480 with 1 Axes>"
      ]
     },
     "metadata": {},
     "output_type": "display_data"
    }
   ],
   "source": [
    "l_df_visual_visits= l_df_visits_4_visual.groupby(['date']).agg({'visit_id': 'count'})\n",
    "l_df_visual_visits.reset_index(inplace=True)\n",
    "visit_bar = plt.bar(l_df_visual_visits['date'], l_df_visual_visits['visit_id'])\n",
    "plt.title('Total visits')\n",
    "plt.xlabel('date_group')\n",
    "plt.ylabel('visits')\n",
    "plt.xticks(rotation = 60)\n",
    "plt.bar_label(visit_bar)\n",
    "plt.savefig('./charts/visits.png')"
   ]
  },
  {
   "cell_type": "code",
   "execution_count": null,
   "id": "cf87a4cb-0acf-4ea7-927f-07bb99a2ca69",
   "metadata": {},
   "outputs": [],
   "source": []
  }
 ],
 "metadata": {
  "kernelspec": {
   "display_name": "Python 3 (ipykernel)",
   "language": "python",
   "name": "python3"
  },
  "language_info": {
   "codemirror_mode": {
    "name": "ipython",
    "version": 3
   },
   "file_extension": ".py",
   "mimetype": "text/x-python",
   "name": "python",
   "nbconvert_exporter": "python",
   "pygments_lexer": "ipython3",
   "version": "3.12.7"
  }
 },
 "nbformat": 4,
 "nbformat_minor": 5
}
